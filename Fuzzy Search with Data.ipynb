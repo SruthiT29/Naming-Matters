{
 "cells": [
  {
   "cell_type": "code",
   "execution_count": 56,
   "metadata": {},
   "outputs": [],
   "source": [
    "from fuzzywuzzy import fuzz\n",
    "from fuzzywuzzy import process\n",
    "from difflib import SequenceMatcher as SM\n",
    "import pandas as pd\n",
    "import numpy as np\n",
    "import time\n",
    "import Levenshtein\n",
    "import re\n",
    "from newsapi import NewsApiClient\n"
   ]
  },
  {
   "cell_type": "code",
   "execution_count": 57,
   "metadata": {},
   "outputs": [
    {
     "name": "stdout",
     "output_type": "stream",
     "text": [
      "Requirement already satisfied: newsapi-python in /Users/Q/anaconda3/lib/python3.6/site-packages (0.2.3)\n",
      "Requirement already satisfied: requests==2.17.1 in /Users/Q/anaconda3/lib/python3.6/site-packages (from newsapi-python) (2.17.1)\n",
      "Requirement already satisfied: urllib3<1.22,>=1.21.1 in /Users/Q/anaconda3/lib/python3.6/site-packages (from requests==2.17.1->newsapi-python) (1.21.1)\n",
      "Requirement already satisfied: certifi>=2017.4.17 in /Users/Q/anaconda3/lib/python3.6/site-packages (from requests==2.17.1->newsapi-python) (2018.4.16)\n",
      "Requirement already satisfied: idna<2.6,>=2.5 in /Users/Q/anaconda3/lib/python3.6/site-packages (from requests==2.17.1->newsapi-python) (2.5)\n",
      "Requirement already satisfied: chardet<3.1.0,>=3.0.2 in /Users/Q/anaconda3/lib/python3.6/site-packages (from requests==2.17.1->newsapi-python) (3.0.4)\n",
      "\u001b[33mYou are using pip version 10.0.1, however version 18.1 is available.\n",
      "You should consider upgrading via the 'pip install --upgrade pip' command.\u001b[0m\n"
     ]
    }
   ],
   "source": [
    "fuzz.ratio(\"this is a test\", \"this is a test!\")\n",
    "fuzz.token_sort_ratio(\"Amazon\", \"aMZon\")\n",
    "\n",
    "!pip install newsapi-python"
   ]
  },
  {
   "cell_type": "code",
   "execution_count": 58,
   "metadata": {
    "scrolled": true
   },
   "outputs": [
    {
     "data": {
      "text/html": [
       "<div>\n",
       "<style scoped>\n",
       "    .dataframe tbody tr th:only-of-type {\n",
       "        vertical-align: middle;\n",
       "    }\n",
       "\n",
       "    .dataframe tbody tr th {\n",
       "        vertical-align: top;\n",
       "    }\n",
       "\n",
       "    .dataframe thead th {\n",
       "        text-align: right;\n",
       "    }\n",
       "</style>\n",
       "<table border=\"1\" class=\"dataframe\">\n",
       "  <thead>\n",
       "    <tr style=\"text-align: right;\">\n",
       "      <th></th>\n",
       "      <th>Unnamed: 0</th>\n",
       "      <th>Business Name</th>\n",
       "      <th>Industry</th>\n",
       "      <th>City</th>\n",
       "      <th>State</th>\n",
       "    </tr>\n",
       "  </thead>\n",
       "  <tbody>\n",
       "    <tr>\n",
       "      <th>0</th>\n",
       "      <td>0</td>\n",
       "      <td>3M Company</td>\n",
       "      <td>Industrials</td>\n",
       "      <td>NaN</td>\n",
       "      <td>USA</td>\n",
       "    </tr>\n",
       "    <tr>\n",
       "      <th>1</th>\n",
       "      <td>1</td>\n",
       "      <td>A.O. Smith Corp</td>\n",
       "      <td>Industrials</td>\n",
       "      <td>NaN</td>\n",
       "      <td>USA</td>\n",
       "    </tr>\n",
       "    <tr>\n",
       "      <th>2</th>\n",
       "      <td>2</td>\n",
       "      <td>Abbott Laboratories</td>\n",
       "      <td>Health Care</td>\n",
       "      <td>NaN</td>\n",
       "      <td>USA</td>\n",
       "    </tr>\n",
       "    <tr>\n",
       "      <th>3</th>\n",
       "      <td>3</td>\n",
       "      <td>AbbVie Inc.</td>\n",
       "      <td>Health Care</td>\n",
       "      <td>NaN</td>\n",
       "      <td>USA</td>\n",
       "    </tr>\n",
       "    <tr>\n",
       "      <th>4</th>\n",
       "      <td>4</td>\n",
       "      <td>Accenture plc</td>\n",
       "      <td>Information Technology</td>\n",
       "      <td>NaN</td>\n",
       "      <td>USA</td>\n",
       "    </tr>\n",
       "  </tbody>\n",
       "</table>\n",
       "</div>"
      ],
      "text/plain": [
       "   Unnamed: 0        Business Name                Industry City State\n",
       "0           0           3M Company             Industrials  NaN   USA\n",
       "1           1      A.O. Smith Corp             Industrials  NaN   USA\n",
       "2           2  Abbott Laboratories             Health Care  NaN   USA\n",
       "3           3          AbbVie Inc.             Health Care  NaN   USA\n",
       "4           4        Accenture plc  Information Technology  NaN   USA"
      ]
     },
     "execution_count": 58,
     "metadata": {},
     "output_type": "execute_result"
    }
   ],
   "source": [
    "data = pd.read_csv('dataXData.csv')\n",
    "company = data['Business Name'].unique()\n",
    "company = company.astype(str)\n",
    "data.head()"
   ]
  },
  {
   "cell_type": "code",
   "execution_count": 60,
   "metadata": {},
   "outputs": [
    {
     "data": {
      "text/plain": [
       "array([nan, 'Quebec', 'BC', ..., 'TEMPERANCE', 'DELMONT', 'MONACA'],\n",
       "      dtype=object)"
      ]
     },
     "execution_count": 60,
     "metadata": {},
     "output_type": "execute_result"
    }
   ],
   "source": [
    "pd.unique(data[['City']].values.ravel())"
   ]
  },
  {
   "cell_type": "code",
   "execution_count": 61,
   "metadata": {},
   "outputs": [
    {
     "name": "stdout",
     "output_type": "stream",
     "text": [
      "940427\n"
     ]
    }
   ],
   "source": [
    "print(len(company))"
   ]
  },
  {
   "cell_type": "code",
   "execution_count": 62,
   "metadata": {},
   "outputs": [
    {
     "name": "stdout",
     "output_type": "stream",
     "text": [
      "Which text do you want to search? apple inc\n",
      "Risk Score for apple inc is 94 for the brands ['Apple Inc.' 'APPLE INC.' 'APPLE INC' 'Apple Inc' 'APPLE, INC.'\n",
      " 'APPLE  INC']\n",
      "High risk\n",
      "Time taken: 30.051 seconds\n",
      "        Business Name                                           Industry  \\\n",
      "51         Apple Inc.                             Information Technology   \n",
      "2809       Apple Inc.                             Computer Manufacturing   \n",
      "24144      APPLE INC.                                       RETAIL STORE   \n",
      "43145       APPLE INC                    Other Computer Related Services   \n",
      "114846      Apple Inc                                   Computer Systems   \n",
      "232237      Apple Inc                                       Retail Trade   \n",
      "352361    APPLE, INC.                         Computer & software stores   \n",
      "644127    APPLE, INC.  All other miscellaneous store retailers (inclu...   \n",
      "785676     APPLE  INC               All Other General Merchandise Stores   \n",
      "798189    APPLE, INC.                        MANUFACTURING - RETAIL/WHSL   \n",
      "856234      APPLE INC                      Electronic & Appliance Stores   \n",
      "1477927    APPLE INC.                                  Electronics Store   \n",
      "1479993    APPLE INC.                                  Electronics Store   \n",
      "1480621    APPLE INC.                     Electronic & Appliance Service   \n",
      "1481014    APPLE INC.                                  Electronics Store   \n",
      "1482164    APPLE INC.                     Electronic & Appliance Service   \n",
      "1482374    APPLE INC.                     Electronic & Appliance Service   \n",
      "1482570    APPLE INC.                     Electronic & Appliance Service   \n",
      "1484423    APPLE INC.                                  Electronics Store   \n",
      "1559373     APPLE INC                 RETAIL SALES OF PERSONAL COMPUTERS   \n",
      "\n",
      "                  City State  \n",
      "51                 NaN   USA  \n",
      "2809               NaN   USA  \n",
      "24144       SACRAMENTO    CA  \n",
      "43145           Seatle    WA  \n",
      "114846    SANTA MONICA    CA  \n",
      "232237   San Francisco    CA  \n",
      "352361     Los Angeles    CA  \n",
      "644127     Los Angeles    CA  \n",
      "785676     KANSAS CITY    MO  \n",
      "798189     CULVER CITY    CA  \n",
      "856234       CUPERTINO    CA  \n",
      "1477927       BROOKLYN    NY  \n",
      "1479993       NEW YORK    NY  \n",
      "1480621       NEW YORK    NY  \n",
      "1481014  STATEN ISLAND    NY  \n",
      "1482164       BROOKLYN    NY  \n",
      "1482374  STATEN ISLAND    NY  \n",
      "1482570       ELMHURST    NY  \n",
      "1484423       ELMHURST    NY  \n",
      "1559373      CUPERTINO    CA  \n",
      "Do you want to search again? [y/n] n\n",
      "Thanks for searching with us!\n"
     ]
    }
   ],
   "source": [
    "start=time.time()\n",
    "response='y'\n",
    "while(response=='y'):\n",
    "    a=[]\n",
    "    text2=input(\"Which text do you want to search? \")\n",
    "    text1 = re.sub('[^A-Za-z0-9]+', '', text2)\n",
    "    company = data['Business Name'].unique()\n",
    "    company = company.astype(str)\n",
    "    for i in range(0,len(company),1):\n",
    "        search=company[i].lower()\n",
    "        a.append(fuzz.token_sort_ratio(text1,search))\n",
    "\n",
    "    #Finding the company names with maximum risk score aka fuzzy ratio\n",
    "    ratio=np.array(a)\n",
    "    c=np.where(ratio==ratio.max())\n",
    "    maximum=max(a)\n",
    "    top_list = company[c]\n",
    "    print(\"Risk Score for\",text2,\"is\",maximum,\"for the brands\",top_list)\n",
    "    \n",
    "    #Decision Logic for Classification\n",
    "    if maximum>=90:\n",
    "        print(\"High risk\")\n",
    "    elif (maximum<90 and maximum>=60):\n",
    "        print(\"Medium Risk\")\n",
    "    else:\n",
    "        print(\"No Risk\")\n",
    "\n",
    "    #Recording time taken to search the database\n",
    "    end=time.time()\n",
    "    print(\"Time taken:\",round(end-start,3),\"seconds\")\n",
    "\n",
    "    df=data.loc[data['Business Name'].isin(top_list)][['Business Name','Industry','City','State']]\n",
    "    df1=df.drop_duplicates(keep='first')\n",
    "    print(df1)\n",
    "    response=input(\"Do you want to search again? [y/n] \")\n",
    "print(\"Thanks for searching with us!\")  "
   ]
  },
  {
   "cell_type": "code",
   "execution_count": 63,
   "metadata": {},
   "outputs": [
    {
     "name": "stdout",
     "output_type": "stream",
     "text": [
      "['apple inc.', 'apple inc', 'apple, inc.', 'apple  inc']\n"
     ]
    }
   ],
   "source": [
    "unique_names = []\n",
    "for d in top_list:\n",
    "    lower = d.lower()\n",
    "    if lower not in unique_names:\n",
    "        unique_names.append(lower)\n",
    "        \n",
    "print(unique_names)"
   ]
  },
  {
   "cell_type": "code",
   "execution_count": 72,
   "metadata": {},
   "outputs": [
    {
     "name": "stdout",
     "output_type": "stream",
     "text": [
      "        entity                                                url                                            snippet\n",
      "0   apple inc.  https://www.reuters.com/article/us-apple-produ...  Shannon Stapleton (Reuters) - Apple Inc said o...\n",
      "1   apple inc.  https://www.fastcompany.com/90272180/supreme-c...  stices will hear arguments in Apple Inc. v. Pe...\n",
      "2   apple inc.  https://www.reuters.com/article/us-global-mark...   A steep decline in shares of Apple Inc ( AAPL...\n",
      "3   apple inc.  https://www.reuters.com/article/us-apple-iphon...   raft of profit warnings from Apple Inc ( AAPL...\n",
      "4   apple inc.  https://gizmodo.com/should-the-supreme-court-k...  8 10:00am Filed to: Pepper v. Apple Inc Filed ...\n",
      "5   apple inc.  https://gizmodo.com/supreme-court-appears-to-l...  r Apple. The case of Pepper v Apple Inc  has t...\n",
      "6   apple inc.        https://www.entrepreneur.com/article/322750  0.23 percent. Tech bellwether Apple Inc. faile...\n",
      "7   apple inc.  https://www.androidcentral.com/samsung-expecte...  ers: Amazon.com Inc.'s Alexa, Apple Inc.'s Sir...\n",
      "8   apple inc.  https://www.reuters.com/article/us-usa-stocks/...   over U.S.-China trade talks. Apple Inc ( AAPL...\n",
      "9   apple inc.  https://www.reuters.com/article/us-usa-stocks/...   over U.S.-China trade talks. Apple Inc ( AAPL...\n",
      "10  apple inc.  https://www.reuters.com/article/us-apple-india...  ng him the perfect target for Apple Inc as it ...\n",
      "11  apple inc.  https://www.yahoo.com/news/apple-supplier-aac-...  oustic components supplier to Apple Inc, on Th...\n",
      "12   apple inc  https://www.reuters.com/article/us-apple-produ...  Shannon Stapleton (Reuters) - Apple Inc said o...\n",
      "13   apple inc  https://www.fastcompany.com/90272180/supreme-c...  stices will hear arguments in Apple Inc. v. Pe...\n",
      "14   apple inc  https://www.reuters.com/article/us-global-mark...   A steep decline in shares of Apple Inc ( AAPL...\n",
      "15   apple inc  https://www.reuters.com/article/us-apple-iphon...   raft of profit warnings from Apple Inc ( AAPL...\n",
      "16   apple inc  https://gizmodo.com/should-the-supreme-court-k...  8 10:00am Filed to: Pepper v. Apple Inc Filed ...\n",
      "17   apple inc  https://gizmodo.com/supreme-court-appears-to-l...  r Apple. The case of Pepper v Apple Inc  has t...\n",
      "18   apple inc        https://www.entrepreneur.com/article/322750  0.23 percent. Tech bellwether Apple Inc. faile...\n",
      "19   apple inc  https://www.androidcentral.com/samsung-expecte...  ers: Amazon.com Inc.'s Alexa, Apple Inc.'s Sir...\n",
      "20   apple inc  https://www.reuters.com/article/us-usa-stocks/...   over U.S.-China trade talks. Apple Inc ( AAPL...\n",
      "21   apple inc  https://www.reuters.com/article/us-usa-stocks/...   over U.S.-China trade talks. Apple Inc ( AAPL...\n",
      "22   apple inc  https://www.reuters.com/article/us-apple-india...  ng him the perfect target for Apple Inc as it ...\n",
      "23   apple inc  https://www.yahoo.com/news/apple-supplier-aac-...  oustic components supplier to Apple Inc, on Th...\n"
     ]
    }
   ],
   "source": [
    "from newsapi import NewsApiClient\n",
    "\n",
    "entity_column = []\n",
    "url_column = []\n",
    "snippet_column = []\n",
    "# Init\n",
    "newsapi = NewsApiClient(api_key='a28acbbe0b2a46428906f353d180c5c3')\n",
    "all_articles = []\n",
    "for entity in unique_names:\n",
    "    all_articles=newsapi.get_everything(q=entity,\n",
    "                                         language='en', # necessary to only maintain english? probably for now\n",
    "                                         sort_by='relevancy',\n",
    "                                         page=1)[\"articles\"]\n",
    "\n",
    "    for article in all_articles:\n",
    "        url = article[\"url\"]        \n",
    "        source = requests.get(url)\n",
    "        if source.status_code != 200:\n",
    "            continue\n",
    "        text = text_from_html(source.content).decode('utf-8')\n",
    "        \n",
    "        if (' ' not in entity):\n",
    "            splitted = text.split()\n",
    "            lower = [x.lower() for x in splitted]\n",
    "\n",
    "            try:\n",
    "                index = lower.index(entity);\n",
    "\n",
    "            except ValueError:\n",
    "                index = -1\n",
    "            if(index != -1):\n",
    "                if(index < 10):\n",
    "                    article_snippet = \" \".join(splitted[0:index+10])\n",
    "                else:\n",
    "                    article_snippet = \" \".join(splitted[index-10:index+10])\n",
    "                entity_column.append(entity)\n",
    "                url_column.append(url)\n",
    "                snippet_column.append(article_snippet)\n",
    "        else:\n",
    "            indices = [m.start() for m in re.finditer(entity.lower(), text.lower())]\n",
    "            \n",
    "            if not indices: \n",
    "                continue\n",
    "            index = indices[0]\n",
    "            if(index < 30):\n",
    "                article_snippet = text[0:index+30]\n",
    "            else:\n",
    "                article_snippet = text[index-30:index+30]\n",
    "            entity_column.append(entity)\n",
    "            url_column.append(url)\n",
    "            snippet_column.append(article_snippet)\n",
    "                \n",
    "columns = {\"entity\" : entity_column, \"url\": url_column, \"snippet\" : snippet_column}\n",
    "df_result = pd.DataFrame.from_dict(columns)\n",
    "print(df_result.to_string())\n",
    "        \n",
    "        \n"
   ]
  },
  {
   "cell_type": "code",
   "execution_count": null,
   "metadata": {},
   "outputs": [],
   "source": [
    "\n"
   ]
  },
  {
   "cell_type": "code",
   "execution_count": null,
   "metadata": {},
   "outputs": [],
   "source": []
  },
  {
   "cell_type": "code",
   "execution_count": null,
   "metadata": {},
   "outputs": [],
   "source": []
  },
  {
   "cell_type": "code",
   "execution_count": null,
   "metadata": {},
   "outputs": [],
   "source": []
  }
 ],
 "metadata": {
  "kernelspec": {
   "display_name": "Python 3",
   "language": "python",
   "name": "python3"
  },
  "language_info": {
   "codemirror_mode": {
    "name": "ipython",
    "version": 3
   },
   "file_extension": ".py",
   "mimetype": "text/x-python",
   "name": "python",
   "nbconvert_exporter": "python",
   "pygments_lexer": "ipython3",
   "version": "3.6.5"
  }
 },
 "nbformat": 4,
 "nbformat_minor": 2
}
