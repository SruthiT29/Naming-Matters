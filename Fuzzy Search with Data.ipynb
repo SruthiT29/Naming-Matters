{
 "cells": [
  {
   "cell_type": "code",
   "execution_count": 1,
   "metadata": {},
   "outputs": [],
   "source": [
    "from fuzzywuzzy import fuzz\n",
    "from fuzzywuzzy import process\n",
    "from difflib import SequenceMatcher as SM\n",
    "import pandas as pd\n",
    "import numpy as np\n",
    "import time\n",
    "import Levenshtein\n",
    "import re\n"
   ]
  },
  {
   "cell_type": "code",
   "execution_count": 2,
   "metadata": {},
   "outputs": [
    {
     "data": {
      "text/plain": [
       "91"
      ]
     },
     "execution_count": 2,
     "metadata": {},
     "output_type": "execute_result"
    }
   ],
   "source": [
    "fuzz.ratio(\"this is a test\", \"this is a test!\")\n",
    "fuzz.token_sort_ratio(\"Amazon\", \"aMZon\")"
   ]
  },
  {
   "cell_type": "code",
   "execution_count": 3,
   "metadata": {
    "scrolled": true
   },
   "outputs": [
    {
     "data": {
      "text/html": [
       "<div>\n",
       "<style scoped>\n",
       "    .dataframe tbody tr th:only-of-type {\n",
       "        vertical-align: middle;\n",
       "    }\n",
       "\n",
       "    .dataframe tbody tr th {\n",
       "        vertical-align: top;\n",
       "    }\n",
       "\n",
       "    .dataframe thead th {\n",
       "        text-align: right;\n",
       "    }\n",
       "</style>\n",
       "<table border=\"1\" class=\"dataframe\">\n",
       "  <thead>\n",
       "    <tr style=\"text-align: right;\">\n",
       "      <th></th>\n",
       "      <th>Unnamed: 0</th>\n",
       "      <th>Business Name</th>\n",
       "      <th>Industry</th>\n",
       "      <th>City</th>\n",
       "      <th>State</th>\n",
       "    </tr>\n",
       "  </thead>\n",
       "  <tbody>\n",
       "    <tr>\n",
       "      <th>0</th>\n",
       "      <td>0</td>\n",
       "      <td>3M Company</td>\n",
       "      <td>Industrials</td>\n",
       "      <td>NaN</td>\n",
       "      <td>USA</td>\n",
       "    </tr>\n",
       "    <tr>\n",
       "      <th>1</th>\n",
       "      <td>1</td>\n",
       "      <td>A.O. Smith Corp</td>\n",
       "      <td>Industrials</td>\n",
       "      <td>NaN</td>\n",
       "      <td>USA</td>\n",
       "    </tr>\n",
       "    <tr>\n",
       "      <th>2</th>\n",
       "      <td>2</td>\n",
       "      <td>Abbott Laboratories</td>\n",
       "      <td>Health Care</td>\n",
       "      <td>NaN</td>\n",
       "      <td>USA</td>\n",
       "    </tr>\n",
       "    <tr>\n",
       "      <th>3</th>\n",
       "      <td>3</td>\n",
       "      <td>AbbVie Inc.</td>\n",
       "      <td>Health Care</td>\n",
       "      <td>NaN</td>\n",
       "      <td>USA</td>\n",
       "    </tr>\n",
       "    <tr>\n",
       "      <th>4</th>\n",
       "      <td>4</td>\n",
       "      <td>Accenture plc</td>\n",
       "      <td>Information Technology</td>\n",
       "      <td>NaN</td>\n",
       "      <td>USA</td>\n",
       "    </tr>\n",
       "  </tbody>\n",
       "</table>\n",
       "</div>"
      ],
      "text/plain": [
       "   Unnamed: 0        Business Name                Industry City State\n",
       "0           0           3M Company             Industrials  NaN   USA\n",
       "1           1      A.O. Smith Corp             Industrials  NaN   USA\n",
       "2           2  Abbott Laboratories             Health Care  NaN   USA\n",
       "3           3          AbbVie Inc.             Health Care  NaN   USA\n",
       "4           4        Accenture plc  Information Technology  NaN   USA"
      ]
     },
     "execution_count": 3,
     "metadata": {},
     "output_type": "execute_result"
    }
   ],
   "source": [
    "data = pd.read_csv('dataXData.csv')\n",
    "company = data['Business Name'].unique()\n",
    "company = company.astype(str)\n",
    "data.head()"
   ]
  },
  {
   "cell_type": "code",
   "execution_count": 4,
   "metadata": {},
   "outputs": [
    {
     "data": {
      "text/html": [
       "<div>\n",
       "<style scoped>\n",
       "    .dataframe tbody tr th:only-of-type {\n",
       "        vertical-align: middle;\n",
       "    }\n",
       "\n",
       "    .dataframe tbody tr th {\n",
       "        vertical-align: top;\n",
       "    }\n",
       "\n",
       "    .dataframe thead th {\n",
       "        text-align: right;\n",
       "    }\n",
       "</style>\n",
       "<table border=\"1\" class=\"dataframe\">\n",
       "  <thead>\n",
       "    <tr style=\"text-align: right;\">\n",
       "      <th></th>\n",
       "      <th>Unnamed: 0</th>\n",
       "      <th>Business Name</th>\n",
       "      <th>Industry</th>\n",
       "      <th>City</th>\n",
       "      <th>State</th>\n",
       "    </tr>\n",
       "  </thead>\n",
       "  <tbody>\n",
       "    <tr>\n",
       "      <th>0</th>\n",
       "      <td>0</td>\n",
       "      <td>3M Company</td>\n",
       "      <td>Industrials</td>\n",
       "      <td>NaN</td>\n",
       "      <td>USA</td>\n",
       "    </tr>\n",
       "    <tr>\n",
       "      <th>1</th>\n",
       "      <td>1</td>\n",
       "      <td>A.O. Smith Corp</td>\n",
       "      <td>Industrials</td>\n",
       "      <td>NaN</td>\n",
       "      <td>USA</td>\n",
       "    </tr>\n",
       "    <tr>\n",
       "      <th>2</th>\n",
       "      <td>2</td>\n",
       "      <td>Abbott Laboratories</td>\n",
       "      <td>Health Care</td>\n",
       "      <td>NaN</td>\n",
       "      <td>USA</td>\n",
       "    </tr>\n",
       "    <tr>\n",
       "      <th>3</th>\n",
       "      <td>3</td>\n",
       "      <td>AbbVie Inc.</td>\n",
       "      <td>Health Care</td>\n",
       "      <td>NaN</td>\n",
       "      <td>USA</td>\n",
       "    </tr>\n",
       "    <tr>\n",
       "      <th>4</th>\n",
       "      <td>4</td>\n",
       "      <td>Accenture plc</td>\n",
       "      <td>Information Technology</td>\n",
       "      <td>NaN</td>\n",
       "      <td>USA</td>\n",
       "    </tr>\n",
       "  </tbody>\n",
       "</table>\n",
       "</div>"
      ],
      "text/plain": [
       "   Unnamed: 0        Business Name                Industry City State\n",
       "0           0           3M Company             Industrials  NaN   USA\n",
       "1           1      A.O. Smith Corp             Industrials  NaN   USA\n",
       "2           2  Abbott Laboratories             Health Care  NaN   USA\n",
       "3           3          AbbVie Inc.             Health Care  NaN   USA\n",
       "4           4        Accenture plc  Information Technology  NaN   USA"
      ]
     },
     "execution_count": 4,
     "metadata": {},
     "output_type": "execute_result"
    }
   ],
   "source": [
    "data.head()"
   ]
  },
  {
   "cell_type": "code",
   "execution_count": 5,
   "metadata": {},
   "outputs": [
    {
     "data": {
      "text/plain": [
       "array([nan, 'Quebec', 'BC', ..., 'TEMPERANCE', 'DELMONT', 'MONACA'],\n",
       "      dtype=object)"
      ]
     },
     "execution_count": 5,
     "metadata": {},
     "output_type": "execute_result"
    }
   ],
   "source": [
    "pd.unique(data[['City']].values.ravel())"
   ]
  },
  {
   "cell_type": "code",
   "execution_count": 6,
   "metadata": {},
   "outputs": [
    {
     "name": "stdout",
     "output_type": "stream",
     "text": [
      "940427\n"
     ]
    }
   ],
   "source": [
    "print(len(company))"
   ]
  },
  {
   "cell_type": "code",
   "execution_count": 7,
   "metadata": {},
   "outputs": [
    {
     "data": {
      "text/plain": [
       "array(['3M Company', 'A.O. Smith Corp', 'Abbott Laboratories', ...,\n",
       "       'DAVID BLACKMORE & ASSOCIATES', 'DESIGNING DIGITALLY, INC.',\n",
       "       'KGC ENTERPRISES INC'], dtype='<U100')"
      ]
     },
     "execution_count": 7,
     "metadata": {},
     "output_type": "execute_result"
    }
   ],
   "source": [
    "company"
   ]
  },
  {
   "cell_type": "code",
   "execution_count": 8,
   "metadata": {},
   "outputs": [
    {
     "name": "stdout",
     "output_type": "stream",
     "text": [
      "Which text do you want to search? ttt\n"
     ]
    }
   ],
   "source": [
    "text=input(\"Which text do you want to search? \")\n",
    "#country = input(\"Which country do you want to search? \")"
   ]
  },
  {
   "cell_type": "code",
   "execution_count": null,
   "metadata": {},
   "outputs": [],
   "source": []
  },
  {
   "cell_type": "code",
   "execution_count": 14,
   "metadata": {},
   "outputs": [
    {
     "name": "stdout",
     "output_type": "stream",
     "text": [
      "Which text do you want to search? amaz on\n",
      "Risk Score for amaz on is 100 for the brands ['Amazon']\n",
      "High risk\n",
      "Time taken: 32.977 seconds\n",
      "       Business Name  Industry           City State\n",
      "246396        Amazon  Multiple  San+francisco    CA\n",
      "Do you want to search again? [y/n] n\n",
      "Thanks for searching with us!\n"
     ]
    }
   ],
   "source": [
    "start=time.time()\n",
    "response='y'\n",
    "while(response=='y'):\n",
    "    a=[]\n",
    "    text2=input(\"Which text do you want to search? \")\n",
    "    text1 = re.sub('[^A-Za-z0-9]+', '', text2)\n",
    "    company = data['Business Name'].unique()\n",
    "    company = company.astype(str)\n",
    "    for i in range(0,len(company),1):\n",
    "        search=company[i].lower()\n",
    "        a.append(fuzz.token_sort_ratio(text1,search))\n",
    "\n",
    "    #Finding the company names with maximum risk score aka fuzzy ratio\n",
    "    ratio=np.array(a)\n",
    "    c=np.where(ratio==ratio.max())\n",
    "    maximum=max(a)\n",
    "    print(\"Risk Score for\",text2,\"is\",maximum,\"for the brands\",company[c])\n",
    "\n",
    "    #Decision Logic for Classification\n",
    "    if maximum>=90:\n",
    "        print(\"High risk\")\n",
    "    elif (maximum<90 and maximum>=60):\n",
    "        print(\"Medium Risk\")\n",
    "    else:\n",
    "        print(\"No Risk\")\n",
    "\n",
    "    #Recording time taken to search the database\n",
    "    end=time.time()\n",
    "    print(\"Time taken:\",round(end-start,3),\"seconds\")\n",
    "\n",
    "    df=data.loc[data['Business Name'].isin(company[c])][['Business Name','Industry','City','State']]\n",
    "    df1=df.drop_duplicates(keep='first')\n",
    "    print(df1)\n",
    "    response=input(\"Do you want to search again? [y/n] \")\n",
    "print(\"Thanks for searching with us!\")  "
   ]
  },
  {
   "cell_type": "code",
   "execution_count": null,
   "metadata": {},
   "outputs": [],
   "source": []
  },
  {
   "cell_type": "code",
   "execution_count": 10,
   "metadata": {},
   "outputs": [
    {
     "name": "stdout",
     "output_type": "stream",
     "text": [
      "['amazon']\n"
     ]
    }
   ],
   "source": [
    "unique_names = []\n",
    "for d in company[c]:\n",
    "    lower = d.lower()\n",
    "    if lower not in unique_names:\n",
    "        unique_names.append(lower)\n",
    "        \n",
    "print(unique_names)"
   ]
  },
  {
   "cell_type": "code",
   "execution_count": null,
   "metadata": {},
   "outputs": [],
   "source": []
  }
 ],
 "metadata": {
  "kernelspec": {
   "display_name": "Python 3",
   "language": "python",
   "name": "python3"
  },
  "language_info": {
   "codemirror_mode": {
    "name": "ipython",
    "version": 3
   },
   "file_extension": ".py",
   "mimetype": "text/x-python",
   "name": "python",
   "nbconvert_exporter": "python",
   "pygments_lexer": "ipython3",
   "version": "3.6.7"
  }
 },
 "nbformat": 4,
 "nbformat_minor": 2
}
